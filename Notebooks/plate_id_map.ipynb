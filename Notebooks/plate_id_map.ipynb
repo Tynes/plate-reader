{
 "cells": [
  {
   "cell_type": "code",
   "execution_count": 79,
   "metadata": {
    "collapsed": false
   },
   "outputs": [],
   "source": [
    "import pandas as pd\n",
    "from pathlib import Path\n",
    "\n",
    "p = Path('../data/Compound ID_plate layouts.xlsx')\n",
    "\n",
    "def build_map():\n",
    "    df = pd.read_excel(p, header=1, sep=',')\n",
    "\n",
    "    wanted_data = df.iloc[:, [1,2,3]]\n",
    "\n",
    "    # Verify data in file here\n",
    "    # remove rows if NaN\n",
    "\n",
    "    compound_ids = wanted_data['CBCSMR_NSC_ID'].tolist()\n",
    "    plate_numbers = wanted_data['Plate # '].tolist()\n",
    "    well_ids = df['Well ID'].tolist()\n",
    "\n",
    "    map = {}\n",
    "    for compound, plate_number, well_id in zip(compound_ids, plate_numbers, well_ids):\n",
    "        map[compound] = dict(plate_number=plate_number, well_id=well_id)\n",
    "    \n",
    "    return map\n"
   ]
  },
  {
   "cell_type": "code",
   "execution_count": null,
   "metadata": {
    "collapsed": true
   },
   "outputs": [],
   "source": []
  },
  {
   "cell_type": "code",
   "execution_count": null,
   "metadata": {
    "collapsed": true
   },
   "outputs": [],
   "source": []
  }
 ],
 "metadata": {
  "anaconda-cloud": {},
  "kernelspec": {
   "display_name": "Python [default]",
   "language": "python",
   "name": "python3"
  },
  "language_info": {
   "codemirror_mode": {
    "name": "ipython",
    "version": 3
   },
   "file_extension": ".py",
   "mimetype": "text/x-python",
   "name": "python",
   "nbconvert_exporter": "python",
   "pygments_lexer": "ipython3",
   "version": "3.5.2"
  }
 },
 "nbformat": 4,
 "nbformat_minor": 1
}
