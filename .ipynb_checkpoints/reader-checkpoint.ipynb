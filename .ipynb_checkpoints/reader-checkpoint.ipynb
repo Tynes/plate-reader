{
 "cells": [
  {
   "cell_type": "markdown",
   "metadata": {},
   "source": [
    "# Instructions\n",
    "- Install [conda]()\n",
    "- Make sure that the binaries that come with conda are in the PATH\n",
    "- ```$ conda create --name plate-reader pandas numpy openpyxl```\n",
    "- ```$ source activate plate-reader```\n",
    "To deactivate, run ```$ source deactivate plate-reader```"
   ]
  },
  {
   "cell_type": "code",
   "execution_count": 2,
   "metadata": {
    "collapsed": false
   },
   "outputs": [
    {
     "name": "stdout",
     "output_type": "stream",
     "text": [
      "0.5927302877970186\n"
     ]
    }
   ],
   "source": [
    "import pandas as pd\n",
    "import numpy as np\n",
    "\n",
    "# from openpyxl import load_workbook\n",
    "# wb = load_workbook('plate_data.xlsx')\n",
    "# print(wb.get_sheet_names())\n",
    "\n",
    "from pathlib import Path\n",
    "\n",
    "p = Path('test_data.xlsx')\n",
    "sheet = pd.read_excel(p,\n",
    "                         parse_cols=\"B:Y\",\n",
    "                         header=1)\n",
    "\n",
    "max = sheet[[1,2]]\n",
    "min = sheet[[23, 24]]\n",
    "max_values = [item for sublist in max.values for item in sublist]\n",
    "min_values = [item for sublist in min.values for item in sublist]\n",
    "max_series = pd.Series(max_values)\n",
    "min_series = pd.Series(min_values)\n",
    "mean_max = max_series.mean()\n",
    "max_std = max_series.std()\n",
    "mean_min = min_series.mean()\n",
    "min_std = min_series.std()\n",
    "sb_ratio = mean_max / mean_min\n",
    "z_factor = 1 - 3 * (max_std + min_std) / (mean_max - mean_min)\n",
    "\n",
    "print(z_factor)"
   ]
  },
  {
   "cell_type": "code",
   "execution_count": null,
   "metadata": {
    "collapsed": true
   },
   "outputs": [],
   "source": []
  }
 ],
 "metadata": {
  "anaconda-cloud": {},
  "kernelspec": {
   "display_name": "Python [conda root]",
   "language": "python",
   "name": "conda-root-py"
  },
  "language_info": {
   "codemirror_mode": {
    "name": "ipython",
    "version": 3
   },
   "file_extension": ".py",
   "mimetype": "text/x-python",
   "name": "python",
   "nbconvert_exporter": "python",
   "pygments_lexer": "ipython3",
   "version": "3.5.2"
  }
 },
 "nbformat": 4,
 "nbformat_minor": 1
}
